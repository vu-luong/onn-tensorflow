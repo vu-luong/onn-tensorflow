{
 "cells": [
  {
   "cell_type": "code",
   "execution_count": 45,
   "metadata": {},
   "outputs": [],
   "source": [
    "import tensorflow as tf\n",
    "from tensorflow.keras.utils import plot_model\n",
    "import numpy as np"
   ]
  },
  {
   "cell_type": "code",
   "execution_count": null,
   "metadata": {},
   "outputs": [],
   "source": []
  },
  {
   "cell_type": "code",
   "execution_count": 46,
   "metadata": {},
   "outputs": [
    {
     "name": "stdout",
     "output_type": "stream",
     "text": [
      "tf.Tensor(15.0, shape=(), dtype=float32)\n"
     ]
    }
   ],
   "source": [
    "class Model(tf.keras.Model):\n",
    "    def __init__(self):\n",
    "        self.W = tf.Variable(5.0)\n",
    "        self.b = tf.Variable(0.0)\n",
    "        \n",
    "    def __call__(self, x):\n",
    "        return self.W * x + self.b\n",
    "    \n",
    "model = Model()\n",
    "# plot_model(model, to_file='model.png')\n",
    "\n",
    "print(model(3.0))"
   ]
  },
  {
   "cell_type": "code",
   "execution_count": null,
   "metadata": {},
   "outputs": [],
   "source": []
  },
  {
   "cell_type": "code",
   "execution_count": 47,
   "metadata": {},
   "outputs": [],
   "source": [
    "def loss(predicted_y, target_y):\n",
    "    return tf.reduce_mean(tf.square(predicted_y - target_y))"
   ]
  },
  {
   "cell_type": "code",
   "execution_count": 48,
   "metadata": {},
   "outputs": [],
   "source": [
    "TRUE_W = 3.0\n",
    "TRUE_b = 2.0\n",
    "NUM_EXAMPLES = 1000\n",
    "\n",
    "inputs  = tf.random.normal(shape=[NUM_EXAMPLES])\n",
    "noise = tf.random.normal(shape=[NUM_EXAMPLES])\n",
    "outputs = inputs * TRUE_W + TRUE_b + noise"
   ]
  },
  {
   "cell_type": "code",
   "execution_count": 49,
   "metadata": {},
   "outputs": [
    {
     "data": {
      "image/png": "[encoded data removed]",
      "text/plain": [
       "<Figure size 432x288 with 1 Axes>"
      ]
     },
     "metadata": {
      "needs_background": "light"
     },
     "output_type": "display_data"
    },
    {
     "name": "stdout",
     "output_type": "stream",
     "text": [
      "Current loss: 9.005620\n"
     ]
    }
   ],
   "source": [
    "import matplotlib.pyplot as plt\n",
    "%matplotlib inline\n",
    "\n",
    "plt.scatter(inputs, outputs, c='b')\n",
    "plt.scatter(inputs, model(inputs), c='r')\n",
    "plt.show()\n",
    "\n",
    "print('Current loss: %1.6f' % loss(model(inputs), outputs).numpy())"
   ]
  },
  {
   "cell_type": "code",
   "execution_count": 52,
   "metadata": {},
   "outputs": [],
   "source": [
    "def train(model, inputs, outputs, learning_rate):\n",
    "    with tf.GradientTape() as t:\n",
    "        current_loss = loss(model(inputs), outputs)\n",
    "        \n",
    "    dW, db = t.gradient(current_loss, [model.W, model.b])\n",
    "    print(dW)\n",
    "    model.W.assign_sub(learning_rate * dW)\n",
    "    model.b.assign_sub(learning_rate * db)\n",
    "    "
   ]
  },
  {
   "cell_type": "code",
   "execution_count": 53,
   "metadata": {},
   "outputs": [
    {
     "name": "stdout",
     "output_type": "stream",
     "text": [
      "tf.Tensor(4.0039425, shape=(), dtype=float32)\n",
      "Epoch  0: W=5.00 b=0.00, loss=9.00562\n",
      "tf.Tensor(3.2160466, shape=(), dtype=float32)\n",
      "Epoch  1: W=4.60 b=0.39, loss=6.21284\n",
      "tf.Tensor(2.583387, shape=(), dtype=float32)\n",
      "Epoch  2: W=4.28 b=0.70, loss=4.39844\n",
      "tf.Tensor(2.075338, shape=(), dtype=float32)\n",
      "Epoch  3: W=4.02 b=0.95, loss=3.21960\n",
      "tf.Tensor(1.6673245, shape=(), dtype=float32)\n",
      "Epoch  4: W=3.81 b=1.16, loss=2.45366\n",
      "tf.Tensor(1.3396237, shape=(), dtype=float32)\n",
      "Epoch  5: W=3.65 b=1.32, loss=1.95597\n",
      "tf.Tensor(1.0764058, shape=(), dtype=float32)\n",
      "Epoch  6: W=3.51 b=1.45, loss=1.63258\n",
      "tf.Tensor(0.8649681, shape=(), dtype=float32)\n",
      "Epoch  7: W=3.40 b=1.56, loss=1.42243\n",
      "tf.Tensor(0.6951105, shape=(), dtype=float32)\n",
      "Epoch  8: W=3.32 b=1.65, loss=1.28586\n",
      "tf.Tensor(0.5586468, shape=(), dtype=float32)\n",
      "Epoch  9: W=3.25 b=1.72, loss=1.19711\n"
     ]
    },
    {
     "data": {
      "image/png": "[encoded data removed]",
      "text/plain": [
       "<Figure size 432x288 with 1 Axes>"
      ]
     },
     "metadata": {
      "needs_background": "light"
     },
     "output_type": "display_data"
    }
   ],
   "source": [
    "model = Model()\n",
    "\n",
    "Ws, bs = [], []\n",
    "epochs = range(10)\n",
    "for epoch in epochs:\n",
    "    Ws.append(model.W.numpy())\n",
    "    bs.append(model.b.numpy())\n",
    "    current_loss = loss(model(inputs), outputs)\n",
    "    \n",
    "    train(model, inputs, outputs, learning_rate=0.1)\n",
    "    print('Epoch %2d: W=%1.2f b=%1.2f, loss=%2.5f' %\n",
    "        (epoch, Ws[-1], bs[-1], current_loss))\n",
    "    \n",
    "# Let's plot it all\n",
    "plt.plot(epochs, Ws, 'r',\n",
    "         epochs, bs, 'b')\n",
    "plt.plot([TRUE_W] * len(epochs), 'r--',\n",
    "         [TRUE_b] * len(epochs), 'b--')\n",
    "plt.legend(['W', 'b', 'True W', 'True b'])\n",
    "plt.show()"
   ]
  },
  {
   "cell_type": "code",
   "execution_count": null,
   "metadata": {},
   "outputs": [],
   "source": []
  }
 ],
 "metadata": {
  "kernelspec": {
   "display_name": "Python 3",
   "language": "python",
   "name": "python3"
  },
  "language_info": {
   "codemirror_mode": {
    "name": "ipython",
    "version": 3
   },
   "file_extension": ".py",
   "mimetype": "text/x-python",
   "name": "python",
   "nbconvert_exporter": "python",
   "pygments_lexer": "ipython3",
   "version": "3.6.7"
  }
 },
 "nbformat": 4,
 "nbformat_minor": 2
}
